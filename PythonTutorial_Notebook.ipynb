{
  "nbformat": 4,
  "nbformat_minor": 0,
  "metadata": {
    "colab": {
      "provenance": [],
      "authorship_tag": "ABX9TyODscYE/dfLe0p3jbZCgKkZ",
      "include_colab_link": true
    },
    "kernelspec": {
      "name": "python3",
      "display_name": "Python 3"
    },
    "language_info": {
      "name": "python"
    }
  },
  "cells": [
    {
      "cell_type": "markdown",
      "metadata": {
        "id": "view-in-github",
        "colab_type": "text"
      },
      "source": [
        "<a href=\"https://colab.research.google.com/github/sureshmanem/pythontutorial/blob/master/PythonTutorial_Notebook.ipynb\" target=\"_parent\"><img src=\"https://colab.research.google.com/assets/colab-badge.svg\" alt=\"Open In Colab\"/></a>"
      ]
    },
    {
      "cell_type": "code",
      "execution_count": 7,
      "metadata": {
        "id": "252o7KmDgi6l"
      },
      "outputs": [],
      "source": [
        "import sys\n",
        "import keyword\n",
        "import operator\n",
        "from datetime import date\n",
        "import os"
      ]
    },
    {
      "cell_type": "markdown",
      "source": [
        "## Keywords\n",
        "\n",
        "Keywords are the reserved words in Python and can't be used as an identifier"
      ],
      "metadata": {
        "id": "3nVQC9h7iN5h"
      }
    },
    {
      "cell_type": "code",
      "source": [
        "print(keyword.kwlist)"
      ],
      "metadata": {
        "colab": {
          "base_uri": "https://localhost:8080/"
        },
        "id": "WP2Hz-YogwMl",
        "outputId": "63399f20-6b27-4384-8766-b39d9dfd31b9"
      },
      "execution_count": 8,
      "outputs": [
        {
          "output_type": "stream",
          "name": "stdout",
          "text": [
            "['False', 'None', 'True', 'and', 'as', 'assert', 'async', 'await', 'break', 'class', 'continue', 'def', 'del', 'elif', 'else', 'except', 'finally', 'for', 'from', 'global', 'if', 'import', 'in', 'is', 'lambda', 'nonlocal', 'not', 'or', 'pass', 'raise', 'return', 'try', 'while', 'with', 'yield']\n"
          ]
        }
      ]
    },
    {
      "cell_type": "code",
      "source": [
        "len(keyword.kwlist)"
      ],
      "metadata": {
        "colab": {
          "base_uri": "https://localhost:8080/"
        },
        "id": "ZaW7Ga2tgrNF",
        "outputId": "51f80c55-4524-43eb-f796-cb79d8244ccf"
      },
      "execution_count": 9,
      "outputs": [
        {
          "output_type": "execute_result",
          "data": {
            "text/plain": [
              "35"
            ]
          },
          "metadata": {},
          "execution_count": 9
        }
      ]
    },
    {
      "cell_type": "code",
      "source": [],
      "metadata": {
        "id": "Aju7sxjJgqKH"
      },
      "execution_count": null,
      "outputs": []
    },
    {
      "cell_type": "markdown",
      "source": [
        "## Identifiers\n",
        "\n",
        "An identifier is a name given to entities like class, functions, variables, etc. It helps to diffentiate one entity from another"
      ],
      "metadata": {
        "id": "LY9aJgzdiW9y"
      }
    },
    {
      "cell_type": "code",
      "source": [
        "1var = 10 # Identifier can't start with a digit"
      ],
      "metadata": {
        "colab": {
          "base_uri": "https://localhost:8080/",
          "height": 108
        },
        "id": "m-50wzaBihMK",
        "outputId": "fc7a0a41-ed9a-43c1-9ea3-ecd27f452b09"
      },
      "execution_count": 10,
      "outputs": [
        {
          "output_type": "error",
          "ename": "SyntaxError",
          "evalue": "invalid decimal literal (<ipython-input-10-e48c1c8cefcf>, line 1)",
          "traceback": [
            "\u001b[0;36m  File \u001b[0;32m\"<ipython-input-10-e48c1c8cefcf>\"\u001b[0;36m, line \u001b[0;32m1\u001b[0m\n\u001b[0;31m    1var = 10 # Identifier can't start with a digit\u001b[0m\n\u001b[0m    ^\u001b[0m\n\u001b[0;31mSyntaxError\u001b[0m\u001b[0;31m:\u001b[0m invalid decimal literal\n"
          ]
        }
      ]
    },
    {
      "cell_type": "code",
      "source": [
        "val2@ = 35 # Identifier can't use special symbols"
      ],
      "metadata": {
        "colab": {
          "base_uri": "https://localhost:8080/",
          "height": 108
        },
        "id": "ukRhHjYzinIL",
        "outputId": "682bc43c-c680-45d7-cf12-66bdb7839c2b"
      },
      "execution_count": 11,
      "outputs": [
        {
          "output_type": "error",
          "ename": "SyntaxError",
          "evalue": "invalid syntax (<ipython-input-11-7251d6d88b33>, line 1)",
          "traceback": [
            "\u001b[0;36m  File \u001b[0;32m\"<ipython-input-11-7251d6d88b33>\"\u001b[0;36m, line \u001b[0;32m1\u001b[0m\n\u001b[0;31m    val2@ = 35 # Identifier can't use special symbols\u001b[0m\n\u001b[0m          ^\u001b[0m\n\u001b[0;31mSyntaxError\u001b[0m\u001b[0;31m:\u001b[0m invalid syntax\n"
          ]
        }
      ]
    },
    {
      "cell_type": "code",
      "source": [
        "import = 125 # Keywords can't be used as identifiers"
      ],
      "metadata": {
        "colab": {
          "base_uri": "https://localhost:8080/",
          "height": 108
        },
        "id": "MC_ZYjsnitYb",
        "outputId": "a222e8cd-e3ad-4972-85b4-a91b36dc73ea"
      },
      "execution_count": 12,
      "outputs": [
        {
          "output_type": "error",
          "ename": "SyntaxError",
          "evalue": "invalid syntax (<ipython-input-12-f7061d4fc9ba>, line 1)",
          "traceback": [
            "\u001b[0;36m  File \u001b[0;32m\"<ipython-input-12-f7061d4fc9ba>\"\u001b[0;36m, line \u001b[0;32m1\u001b[0m\n\u001b[0;31m    import = 125 # Keywords can't be used as identifiers\u001b[0m\n\u001b[0m           ^\u001b[0m\n\u001b[0;31mSyntaxError\u001b[0m\u001b[0;31m:\u001b[0m invalid syntax\n"
          ]
        }
      ]
    },
    {
      "cell_type": "code",
      "source": [
        "\"\"\"\n",
        "Correct way of defining a identifer\n",
        "(Identifiers can be a combination of letters in lowercase (a to z) or upper case (A to Z))\n",
        "\"\"\"\n",
        "val2 = 10"
      ],
      "metadata": {
        "id": "tnTRpQfDi9Zz"
      },
      "execution_count": 14,
      "outputs": []
    },
    {
      "cell_type": "code",
      "source": [
        "val_ = 99"
      ],
      "metadata": {
        "id": "WMXaZ45Ti-2j"
      },
      "execution_count": 15,
      "outputs": []
    },
    {
      "cell_type": "markdown",
      "source": [
        "## Comments in Python\n",
        "\n",
        "Comments can be used to explain the code for more readability"
      ],
      "metadata": {
        "id": "hmHu4bsGjR7n"
      }
    },
    {
      "cell_type": "code",
      "source": [
        "# single line comment\n",
        "val1 = 10"
      ],
      "metadata": {
        "id": "RzAxURlTjP9d"
      },
      "execution_count": 16,
      "outputs": []
    },
    {
      "cell_type": "code",
      "source": [
        "# Multiple\n",
        "# Line\n",
        "# Comment\n",
        "val1 = 10"
      ],
      "metadata": {
        "id": "CK-YMU3Ljb-s"
      },
      "execution_count": 18,
      "outputs": []
    },
    {
      "cell_type": "markdown",
      "source": [
        "## Statements\n",
        "\n",
        "Instructions that a Python interpreter can execute"
      ],
      "metadata": {
        "id": "GsUVm5MTjjlj"
      }
    },
    {
      "cell_type": "code",
      "source": [
        "p1 = 10 + 20\n",
        "p1"
      ],
      "metadata": {
        "colab": {
          "base_uri": "https://localhost:8080/"
        },
        "id": "rsXTZ_HPjdUY",
        "outputId": "31ae3b0b-857e-4280-9f70-585efda5fa3f"
      },
      "execution_count": 19,
      "outputs": [
        {
          "output_type": "execute_result",
          "data": {
            "text/plain": [
              "30"
            ]
          },
          "metadata": {},
          "execution_count": 19
        }
      ]
    },
    {
      "cell_type": "code",
      "source": [
        "# Single line statement\n",
        "p2 = ['a','b','c','d']\n",
        "p2"
      ],
      "metadata": {
        "colab": {
          "base_uri": "https://localhost:8080/"
        },
        "id": "DOSDCCbgjwlh",
        "outputId": "a9865b81-4d39-47b0-d354-b446ae509415"
      },
      "execution_count": 20,
      "outputs": [
        {
          "output_type": "execute_result",
          "data": {
            "text/plain": [
              "['a', 'b', 'c', 'd']"
            ]
          },
          "metadata": {},
          "execution_count": 20
        }
      ]
    },
    {
      "cell_type": "code",
      "source": [
        "# Multiple line statement\n",
        "p1 = 20 + 30 \\\n",
        "     + 40 + 50 +\\\n",
        "     + 70 + 80\n",
        "\n",
        "p1"
      ],
      "metadata": {
        "colab": {
          "base_uri": "https://localhost:8080/"
        },
        "id": "-ZrbHLSij3Tp",
        "outputId": "eee3a8b6-56db-48c2-d87b-a549ffb9e8dc"
      },
      "execution_count": 21,
      "outputs": [
        {
          "output_type": "execute_result",
          "data": {
            "text/plain": [
              "290"
            ]
          },
          "metadata": {},
          "execution_count": 21
        }
      ]
    },
    {
      "cell_type": "code",
      "source": [
        "# Multple line statement\n",
        "p2 = ['a',\n",
        "      'b',\n",
        "      'c',\n",
        "      'd'\n",
        "      ]\n",
        "p2"
      ],
      "metadata": {
        "colab": {
          "base_uri": "https://localhost:8080/"
        },
        "id": "gY9m0FQpkGkB",
        "outputId": "c2c01f61-82da-4ee3-d88e-83ce20fe1479"
      },
      "execution_count": 22,
      "outputs": [
        {
          "output_type": "execute_result",
          "data": {
            "text/plain": [
              "['a', 'b', 'c', 'd']"
            ]
          },
          "metadata": {},
          "execution_count": 22
        }
      ]
    },
    {
      "cell_type": "markdown",
      "source": [
        "## Indentation\n",
        "\n",
        "Identation refers to the spaces at the beginning of a code line. It is very important as Python uses identation to include a block of code. If the identation is not correct we will endup with <b>IdentationError</b> error."
      ],
      "metadata": {
        "id": "7okY6ykRkQ2E"
      }
    },
    {
      "cell_type": "code",
      "source": [],
      "metadata": {
        "id": "r8CNKp2skPbe"
      },
      "execution_count": null,
      "outputs": []
    }
  ]
}