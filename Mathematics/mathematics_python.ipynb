{
 "cells": [
  {
   "cell_type": "markdown",
   "metadata": {},
   "source": [
    "### Here is an example of a Python code snippet that demonstrates the calculation of mean squared error (MSE) loss"
   ]
  },
  {
   "cell_type": "code",
   "execution_count": 25,
   "metadata": {},
   "outputs": [],
   "source": [
    "import numpy as np\n",
    "import sympy as sp"
   ]
  },
  {
   "cell_type": "code",
   "execution_count": 14,
   "metadata": {},
   "outputs": [
    {
     "name": "stdout",
     "output_type": "stream",
     "text": [
      "Mean Squared Error: 0.022000000000000023\n"
     ]
    }
   ],
   "source": [
    "def mean_squared_error(y_true, y_pred):\n",
    "    return np.mean((y_true - y_pred) ** 2)\n",
    "\n",
    "y_true = np.array([1, 2, 3, 4, 5])\n",
    "y_pred = np.array([1.1, 2.2, 2.8, 3.9, 5.1])\n",
    "\n",
    "mse = mean_squared_error(y_true, y_pred)\n",
    "print(\"Mean Squared Error:\", mse)"
   ]
  },
  {
   "cell_type": "markdown",
   "metadata": {},
   "source": [
    "### Create a Vector"
   ]
  },
  {
   "cell_type": "code",
   "execution_count": 17,
   "metadata": {},
   "outputs": [
    {
     "name": "stdout",
     "output_type": "stream",
     "text": [
      "Vector x: [1 2 3]\n"
     ]
    }
   ],
   "source": [
    "x = np.array([1, 2, 3]) # Create a vector\n",
    "print(\"Vector x:\", x)"
   ]
  },
  {
   "cell_type": "markdown",
   "metadata": {},
   "source": [
    "### Create a Matrix"
   ]
  },
  {
   "cell_type": "code",
   "execution_count": 20,
   "metadata": {},
   "outputs": [
    {
     "name": "stdout",
     "output_type": "stream",
     "text": [
      "Matrix A:\n",
      " [[1 2 3]\n",
      " [5 6 7]]\n"
     ]
    }
   ],
   "source": [
    "A = np.array([[1,2,3],[5,6,7]])\n",
    "print(\"Matrix A:\\n\", A)"
   ]
  },
  {
   "cell_type": "markdown",
   "metadata": {},
   "source": [
    "### Matrix Operations"
   ]
  },
  {
   "cell_type": "code",
   "execution_count": 21,
   "metadata": {},
   "outputs": [
    {
     "name": "stdout",
     "output_type": "stream",
     "text": [
      "Matrix C:\n",
      " [[ 6  8]\n",
      " [10 12]]\n",
      "Matrix D:\n",
      " [[-4 -4]\n",
      " [-4 -4]]\n",
      "Matrix E:\n",
      " [[ 5 12]\n",
      " [21 32]]\n",
      "Matrix F:\n",
      " [[0.2        0.33333333]\n",
      " [0.42857143 0.5       ]]\n"
     ]
    }
   ],
   "source": [
    "A = np.array([[1,2],[3,4]])\n",
    "B = np.array([[5,6],[7,8]])\n",
    "\n",
    "C = A + B # Add two matrices\n",
    "print(\"Matrix C:\\n\", C)\n",
    "\n",
    "D = A - B # Subtract two matrices\n",
    "print(\"Matrix D:\\n\", D)\n",
    "\n",
    "E = A * B # Multiply two matrices\n",
    "print(\"Matrix E:\\n\", E)\n",
    "\n",
    "F = A / B # Divide two matrices\n",
    "print(\"Matrix F:\\n\", F)"
   ]
  },
  {
   "cell_type": "code",
   "execution_count": 22,
   "metadata": {},
   "outputs": [
    {
     "name": "stdout",
     "output_type": "stream",
     "text": [
      "Matrix G:\n",
      " [[19 22]\n",
      " [43 50]]\n",
      "Matrix H:\n",
      " [[19 22]\n",
      " [43 50]]\n",
      "Matrix I:\n",
      " [[19 22]\n",
      " [43 50]]\n"
     ]
    }
   ],
   "source": [
    "# Matrix multiplication using matmul\n",
    "G = np.matmul(A, B)\n",
    "print(\"Matrix G:\\n\", G)\n",
    "\n",
    "# Matrix multiplication using dot\n",
    "H = np.dot(A, B)\n",
    "print(\"Matrix H:\\n\", H)\n",
    "\n",
    "# Matrix multiplication using @\n",
    "I = A @ B\n",
    "print(\"Matrix I:\\n\", I)"
   ]
  },
  {
   "cell_type": "code",
   "execution_count": 23,
   "metadata": {},
   "outputs": [
    {
     "name": "stdout",
     "output_type": "stream",
     "text": [
      "Eigenvalues: [-0.37228132  5.37228132]\n",
      "Eigenvectors:\n",
      " [[-0.82456484 -0.41597356]\n",
      " [ 0.56576746 -0.90937671]]\n"
     ]
    }
   ],
   "source": [
    "# Eigenvalues and eigenvectors\n",
    "eigenvalues, eigenvectors = np.linalg.eig(A)\n",
    "print(\"Eigenvalues:\", eigenvalues)\n",
    "print(\"Eigenvectors:\\n\", eigenvectors)"
   ]
  },
  {
   "cell_type": "code",
   "execution_count": 31,
   "metadata": {},
   "outputs": [
    {
     "name": "stdout",
     "output_type": "stream",
     "text": [
      "Derivative of f(x): 2*x + 2\n",
      "Integral of f(x) from 0 to 1: 7/3\n"
     ]
    }
   ],
   "source": [
    "# Define a variable\n",
    "x = sp.symbols('x')\n",
    "\n",
    "# Define a function\n",
    "f = x**2 + 2*x + 1\n",
    "\n",
    "# Calculate the derivative\n",
    "derivative = sp.diff(f, x)\n",
    "print(\"Derivative of f(x):\", derivative)\n",
    "\n",
    "# Calculate the integral from 0 to 1\n",
    "integral = sp.integrate(f, (x,0,1))\n",
    "print(\"Integral of f(x) from 0 to 1:\", integral)\n"
   ]
  },
  {
   "cell_type": "code",
   "execution_count": 32,
   "metadata": {},
   "outputs": [
    {
     "name": "stdout",
     "output_type": "stream",
     "text": [
      "Partial derivative of f(x,y) with respect to x: 2*x + 2*y\n",
      "Partial derivative of f(x,y) with respect to y: 2*x + 2*y\n"
     ]
    }
   ],
   "source": [
    "x,y = sp.symbols('x y') # Define two variables\n",
    "f = x**2 + 2*x*y + y**2 # Define a function of two variables\n",
    "\n",
    "# Calculate the partial derivative with respect to x\n",
    "partial_derivative_x = sp.diff(f, x)\n",
    "\n",
    "# Calculate the partial derivative with respect to y\n",
    "partial_derivative_y = sp.diff(f, y)\n",
    "\n",
    "print(\"Partial derivative of f(x,y) with respect to x:\", partial_derivative_x)\n",
    "print(\"Partial derivative of f(x,y) with respect to y:\", partial_derivative_y)"
   ]
  },
  {
   "cell_type": "code",
   "execution_count": 34,
   "metadata": {},
   "outputs": [
    {
     "name": "stdout",
     "output_type": "stream",
     "text": [
      "Gradient of f(x,y): [2*x + 3*y, 3*x + 4*y]\n",
      "Hessian matrix of f(x,y):\n",
      " Matrix([[2, 3], [3, 4]])\n"
     ]
    }
   ],
   "source": [
    "x,y = sp.symbols('x y') # Define two variables\n",
    "f = x**2 + 2*y**2 + 3*x*y # Define a function of two variables\n",
    "\n",
    "# Calculate the gradient\n",
    "gradient = [sp.diff(f, var) for var in (x, y)]\n",
    "print(\"Gradient of f(x,y):\", gradient)\n",
    "\n",
    "# Calculate the Hessian matrix\n",
    "hessian = sp.hessian(f, (x, y))\n",
    "print(\"Hessian matrix of f(x,y):\\n\", hessian)"
   ]
  },
  {
   "cell_type": "code",
   "execution_count": null,
   "metadata": {},
   "outputs": [],
   "source": []
  }
 ],
 "metadata": {
  "kernelspec": {
   "display_name": ".venv",
   "language": "python",
   "name": "python3"
  },
  "language_info": {
   "codemirror_mode": {
    "name": "ipython",
    "version": 3
   },
   "file_extension": ".py",
   "mimetype": "text/x-python",
   "name": "python",
   "nbconvert_exporter": "python",
   "pygments_lexer": "ipython3",
   "version": "3.11.5"
  }
 },
 "nbformat": 4,
 "nbformat_minor": 2
}
